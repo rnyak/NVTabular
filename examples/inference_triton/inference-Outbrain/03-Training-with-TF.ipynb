{
 "cells": [
  {
   "cell_type": "code",
   "execution_count": 1,
   "metadata": {},
   "outputs": [],
   "source": [
    "# Copyright 2021 NVIDIA Corporation. All Rights Reserved.\n",
    "#\n",
    "# Licensed under the Apache License, Version 2.0 (the \"License\");\n",
    "# you may not use this file except in compliance with the License.\n",
    "# You may obtain a copy of the License at\n",
    "#\n",
    "#     http://www.apache.org/licenses/LICENSE-2.0\n",
    "#\n",
    "# Unless required by applicable law or agreed to in writing, software\n",
    "# distributed under the License is distributed on an \"AS IS\" BASIS,\n",
    "# WITHOUT WARRANTIES OR CONDITIONS OF ANY KIND, either express or implied.\n",
    "# See the License for the specific language governing permissions and\n",
    "# limitations under the License.\n",
    "# =============================================================================="
   ]
  },
  {
   "cell_type": "markdown",
   "metadata": {},
   "source": [
    "# NVTabular demo on Outbrain Data"
   ]
  },
  {
   "cell_type": "markdown",
   "metadata": {},
   "source": [
    "## Overview"
   ]
  },
  {
   "cell_type": "markdown",
   "metadata": {},
   "source": [
    "In this notebook we train TF Wide & Deep Learning framework using [Kaggle Outbrain dataset](https://www.kaggle.com/c/outbrain-click-prediction). In that competition, ‘Kagglers’ were challenged to predict on which ads and other forms of sponsored content its global users would click. \n",
    "\n",
    "[Wide & Deep Learning](https://ai.googleblog.com/2016/06/wide-deep-learning-better-together-with.html) refers to a class of networks that use the output of two parts working in parallel - wide model and deep model - to make predictions using categorical and continuous inputs. The wide model is a generalized linear model of features together with their transforms. The deep model in this notebook is a series of three hidden MLP layers of [1024, 512, 256] neurons each beginning with a dense embedding of features. \n",
    "\n",
    "**Learning objectives**<br><br>\n",
    "This notebook explains, how to use the NVTabular dataloader to accelerate TensorFlow training.\n",
    "\n",
    "- Use NVTabular dataloader with TensorFlow Keras model\n",
    "- Training Wide&Deep model with NVTabular dataloader in TensorFlow"
   ]
  },
  {
   "cell_type": "code",
   "execution_count": 2,
   "metadata": {},
   "outputs": [],
   "source": [
    "import os"
   ]
  },
  {
   "cell_type": "code",
   "execution_count": 3,
   "metadata": {},
   "outputs": [],
   "source": [
    "os.environ[\"CUDA_DEVICE_ORDER\"] = \"PCI_BUS_ID\"\n",
    "os.environ[\"CUDA_VISIBLE_DEVICES\"] = \"2,3\""
   ]
  },
  {
   "cell_type": "code",
   "execution_count": 4,
   "metadata": {},
   "outputs": [],
   "source": [
    "import tensorflow as tf\n",
    "\n",
    "# we can control how much memory to give tensorflow with this environment variable\n",
    "# IMPORTANT: make sure you do this before you initialize TF's runtime, otherwise\n",
    "# TF will have claimed all free GPU memory\n",
    "\n",
    "#os.environ['TF_MEMORY_ALLOCATION'] = \"0.7\" # fraction of free memory\n",
    "from tensorflow.keras.mixed_precision import experimental as mixed_precision\n",
    "from tensorflow.python.feature_column import feature_column_v2 as fc\n",
    "\n",
    "from nvtabular.loader.tensorflow import KerasSequenceLoader, KerasSequenceValidater\n",
    "from nvtabular.framework_utils.tensorflow import layers"
   ]
  },
  {
   "cell_type": "code",
   "execution_count": 5,
   "metadata": {},
   "outputs": [],
   "source": [
    "import glob\n",
    "import time\n",
    "import datetime\n",
    "import math\n",
    "\n",
    "import cupy\n",
    "import cudf\n",
    "import rmm\n",
    "from numba import cuda\n",
    "import numpy as np\n",
    "\n",
    "import nvtabular as nvt"
   ]
  },
  {
   "cell_type": "markdown",
   "metadata": {},
   "source": [
    "First, we set where the parquet datasets were saved once processed (OUTPUT_BUCKET_FOLDER)."
   ]
  },
  {
   "cell_type": "code",
   "execution_count": 6,
   "metadata": {},
   "outputs": [],
   "source": [
    "OUTPUT_BUCKET_FOLDER = os.environ.get(\"OUTPUT_DATA_DIR\", \"/outbrain/\")"
   ]
  },
  {
   "cell_type": "markdown",
   "metadata": {},
   "source": [
    "In the previous notebook, we used NVTabular for ETL and stored the workflow to disk. We can load the NVTabular workflow to extract important metadata for our training pipeline."
   ]
  },
  {
   "cell_type": "code",
   "execution_count": 7,
   "metadata": {},
   "outputs": [],
   "source": [
    "workflow = nvt.Workflow.load(os.path.join(OUTPUT_BUCKET_FOLDER,'workflow'))"
   ]
  },
  {
   "cell_type": "markdown",
   "metadata": {},
   "source": [
    "EMBEDDING_TABLE_SHAPES defines the size of the embedding tables that our model will use to map categorical outputs from NVTabular into numeric dense inputs."
   ]
  },
  {
   "cell_type": "code",
   "execution_count": 8,
   "metadata": {},
   "outputs": [
    {
     "data": {
      "text/plain": [
       "{'ad_id': (418402, 16),\n",
       " 'advertiser_id': (4060, 16),\n",
       " 'campaign_id': (31390, 16),\n",
       " 'document_id': (693454, 16),\n",
       " 'document_id_promo': (143973, 16),\n",
       " 'geo_location': (2886, 16),\n",
       " 'geo_location_country': (232, 16),\n",
       " 'geo_location_state': (2486, 16),\n",
       " 'platform': (5, 16),\n",
       " 'publisher_id': (483, 16),\n",
       " 'publisher_id_promo': (804, 16),\n",
       " 'source_id': (4740, 16),\n",
       " 'source_id_promo': (6825, 16)}"
      ]
     },
     "execution_count": 8,
     "metadata": {},
     "output_type": "execute_result"
    }
   ],
   "source": [
    "from nvtabular.ops import get_embedding_sizes\n",
    "\n",
    "EMBEDDING_TABLE_SHAPES = {column: (shape[0], min(shape[1], 16)) for column, shape in get_embedding_sizes(workflow).items()}\n",
    "EMBEDDING_TABLE_SHAPES"
   ]
  },
  {
   "cell_type": "markdown",
   "metadata": {},
   "source": [
    "We select categorical and numerical features that are processed and generated via the NVTabular workflow to train our W&D TF model."
   ]
  },
  {
   "cell_type": "code",
   "execution_count": 9,
   "metadata": {},
   "outputs": [],
   "source": [
    "CATEGORICAL_COLUMNS =['geo_location', 'geo_location_country', 'geo_location_state', 'ad_id','document_id', 'platform', 'document_id_promo', \n",
    "                      'campaign_id','advertiser_id', 'source_id', 'publisher_id', 'source_id_promo', 'publisher_id_promo']"
   ]
  },
  {
   "cell_type": "code",
   "execution_count": 10,
   "metadata": {},
   "outputs": [],
   "source": [
    "NUMERIC_COLUMNS = ['document_id_document_id_promo_sim_categories',\n",
    "'document_id_document_id_promo_sim_topics',\n",
    "'document_id_document_id_promo_sim_entities',\n",
    "'publish_time_since_published', \n",
    "'publish_time_promo_since_published',\n",
    "'TE_ad_id_clicked',\n",
    "'TE_document_id_promo_clicked', \n",
    "'TE_campaign_id_clicked',\n",
    "'TE_advertiser_id_clicked', \n",
    "'TE_source_id_clicked',\n",
    "'TE_publisher_id_clicked',\n",
    "]"
   ]
  },
  {
   "cell_type": "markdown",
   "metadata": {},
   "source": [
    "## Training a TF W&D Model"
   ]
  },
  {
   "cell_type": "markdown",
   "metadata": {},
   "source": [
    "We create tensorflow feature columns corresponding to each feature of the model input. If you're using NVTabular with TensorFlow feature_columns, you should only be using `tf.feature_column.categorical_column_with_identity` for categorical features, since any other transformation (categorification and/or hashing) should be handled in NVTabular on the GPU. This feature column is passed to the wide portion of the model. If a categorical column corresponds to an embedding table, it is wrapped with an embedding_column feature_column, if it does not correspond to an embedding table, it is wrapped as an indicator column. The wrapped column is passed to the deep portion of the model. Continuous columns are passed to both the wide and deep portions of the model after being encapsulated as a `numeric_column`."
   ]
  },
  {
   "cell_type": "code",
   "execution_count": 11,
   "metadata": {},
   "outputs": [],
   "source": [
    "def get_feature_columns():\n",
    "    wide_columns, deep_columns = [], []\n",
    "\n",
    "    for column_name in CATEGORICAL_COLUMNS:\n",
    "        if column_name in EMBEDDING_TABLE_SHAPES: # Changing hashing to identity + adding modulo to dataloader\n",
    "            categorical_column = tf.feature_column.categorical_column_with_identity(\n",
    "                column_name, num_buckets=EMBEDDING_TABLE_SHAPES[column_name][0])\n",
    "        else:\n",
    "            raise ValueError(f'Unexpected categorical column found {column_name}')\n",
    "\n",
    "        if column_name in EMBEDDING_TABLE_SHAPES:\n",
    "            wrapped_column = tf.feature_column.embedding_column(\n",
    "                categorical_column,\n",
    "                dimension=EMBEDDING_TABLE_SHAPES[column_name][1],\n",
    "                combiner='mean')\n",
    "        else:\n",
    "            wrapped_column = tf.feature_column.indicator_column(categorical_column)\n",
    "            \n",
    "        wide_columns.append(categorical_column)\n",
    "        deep_columns.append(wrapped_column)\n",
    "    \n",
    "    numerics = [tf.feature_column.numeric_column(column_name, shape=(1,),dtype=tf.float32) \n",
    "                for column_name in NUMERIC_COLUMNS]\n",
    "    \n",
    "    wide_columns.extend(numerics)\n",
    "    deep_columns.extend(numerics)\n",
    "       \n",
    "    return wide_columns, deep_columns"
   ]
  },
  {
   "cell_type": "markdown",
   "metadata": {},
   "source": [
    "Next, we define the layer shape and dropout probability for the deep portion of the model."
   ]
  },
  {
   "cell_type": "code",
   "execution_count": 12,
   "metadata": {},
   "outputs": [],
   "source": [
    "deep_hidden_units=[1024, 512, 256]\n",
    "deep_dropout=.1"
   ]
  },
  {
   "cell_type": "markdown",
   "metadata": {},
   "source": [
    "An input is created for each feature column, with a datatype of either tf.float32 for continuous values, or tf.int32 for categorical values. To implement the wide model, for categorical inputs, we embed them to a dimension of one, and sum them with the results of applying a dense layer with output dimension one, effectively weighting and summing each of the inputs. For the deep model, we embed our categorical columns according to the feature columns we defined earlier, and concatenate the newly dense features with our dense continuous features, which we pass to our deep model, which by default is a 5 layer MLP with internal dimension of 1024 neurons for each layer. "
   ]
  },
  {
   "cell_type": "code",
   "execution_count": 13,
   "metadata": {},
   "outputs": [
    {
     "name": "stdout",
     "output_type": "stream",
     "text": [
      "\n",
      "ddn_model [<KerasTensor: shape=(None, 1) dtype=float32 (created by layer 'TE_ad_id_clicked')>, <KerasTensor: shape=(None, 1) dtype=float32 (created by layer 'TE_advertiser_id_clicked')>, <KerasTensor: shape=(None, 1) dtype=float32 (created by layer 'TE_campaign_id_clicked')>, <KerasTensor: shape=(None, 1) dtype=float32 (created by layer 'TE_document_id_promo_clicked')>, <KerasTensor: shape=(None, 1) dtype=float32 (created by layer 'TE_publisher_id_clicked')>, <KerasTensor: shape=(None, 1) dtype=float32 (created by layer 'TE_source_id_clicked')>, <KerasTensor: shape=(None, 1) dtype=int32 (created by layer 'ad_id')>, <KerasTensor: shape=(None, 1) dtype=int32 (created by layer 'advertiser_id')>, <KerasTensor: shape=(None, 1) dtype=int32 (created by layer 'campaign_id')>, <KerasTensor: shape=(None, 1) dtype=int32 (created by layer 'document_id')>, <KerasTensor: shape=(None, 1) dtype=float32 (created by layer 'document_id_document_id_promo_sim_categories')>, <KerasTensor: shape=(None, 1) dtype=float32 (created by layer 'document_id_document_id_promo_sim_entities')>, <KerasTensor: shape=(None, 1) dtype=float32 (created by layer 'document_id_document_id_promo_sim_topics')>, <KerasTensor: shape=(None, 1) dtype=int32 (created by layer 'document_id_promo')>, <KerasTensor: shape=(None, 1) dtype=int32 (created by layer 'geo_location')>, <KerasTensor: shape=(None, 1) dtype=int32 (created by layer 'geo_location_country')>, <KerasTensor: shape=(None, 1) dtype=int32 (created by layer 'geo_location_state')>, <KerasTensor: shape=(None, 1) dtype=int32 (created by layer 'platform')>, <KerasTensor: shape=(None, 1) dtype=float32 (created by layer 'publish_time_promo_since_published')>, <KerasTensor: shape=(None, 1) dtype=float32 (created by layer 'publish_time_since_published')>, <KerasTensor: shape=(None, 1) dtype=int32 (created by layer 'publisher_id')>, <KerasTensor: shape=(None, 1) dtype=int32 (created by layer 'publisher_id_promo')>, <KerasTensor: shape=(None, 1) dtype=int32 (created by layer 'source_id')>, <KerasTensor: shape=(None, 1) dtype=int32 (created by layer 'source_id_promo')>]\n",
      "\n",
      "linear_model [<KerasTensor: shape=(None, 1) dtype=float32 (created by layer 'TE_ad_id_clicked')>, <KerasTensor: shape=(None, 1) dtype=float32 (created by layer 'TE_advertiser_id_clicked')>, <KerasTensor: shape=(None, 1) dtype=float32 (created by layer 'TE_campaign_id_clicked')>, <KerasTensor: shape=(None, 1) dtype=float32 (created by layer 'TE_document_id_promo_clicked')>, <KerasTensor: shape=(None, 1) dtype=float32 (created by layer 'TE_publisher_id_clicked')>, <KerasTensor: shape=(None, 1) dtype=float32 (created by layer 'TE_source_id_clicked')>, <KerasTensor: shape=(None, 1) dtype=int32 (created by layer 'ad_id')>, <KerasTensor: shape=(None, 1) dtype=int32 (created by layer 'advertiser_id')>, <KerasTensor: shape=(None, 1) dtype=int32 (created by layer 'campaign_id')>, <KerasTensor: shape=(None, 1) dtype=int32 (created by layer 'document_id')>, <KerasTensor: shape=(None, 1) dtype=float32 (created by layer 'document_id_document_id_promo_sim_categories')>, <KerasTensor: shape=(None, 1) dtype=float32 (created by layer 'document_id_document_id_promo_sim_entities')>, <KerasTensor: shape=(None, 1) dtype=float32 (created by layer 'document_id_document_id_promo_sim_topics')>, <KerasTensor: shape=(None, 1) dtype=int32 (created by layer 'document_id_promo')>, <KerasTensor: shape=(None, 1) dtype=int32 (created by layer 'geo_location')>, <KerasTensor: shape=(None, 1) dtype=int32 (created by layer 'geo_location_country')>, <KerasTensor: shape=(None, 1) dtype=int32 (created by layer 'geo_location_state')>, <KerasTensor: shape=(None, 1) dtype=int32 (created by layer 'platform')>, <KerasTensor: shape=(None, 1) dtype=float32 (created by layer 'publish_time_promo_since_published')>, <KerasTensor: shape=(None, 1) dtype=float32 (created by layer 'publish_time_since_published')>, <KerasTensor: shape=(None, 1) dtype=int32 (created by layer 'publisher_id')>, <KerasTensor: shape=(None, 1) dtype=int32 (created by layer 'publisher_id_promo')>, <KerasTensor: shape=(None, 1) dtype=int32 (created by layer 'source_id')>, <KerasTensor: shape=(None, 1) dtype=int32 (created by layer 'source_id_promo')>]\n",
      "None\n"
     ]
    }
   ],
   "source": [
    "wide_columns, deep_columns = get_feature_columns()\n",
    "\n",
    "wide_weighted_outputs = []  # a list of (batch_size, 1) contributors to the linear weighted sum\n",
    "numeric_dense_inputs = []  # NumericColumn inputs; to be concatenated and then fed to a dense layer\n",
    "wide_columns_dict = {}  # key : column\n",
    "deep_columns_dict = {}  # key : column\n",
    "features = {}  # tf.keras.Input placeholders for each feature to be used\n",
    "\n",
    "# construct input placeholders for wide features\n",
    "for col in wide_columns:\n",
    "    features[col.key] = tf.keras.Input(shape=(1,),\n",
    "                                       batch_size=None, \n",
    "                                       name=col.key,\n",
    "                                       dtype=tf.float32 if col.key in NUMERIC_COLUMNS else tf.int32,\n",
    "                                       sparse=False)\n",
    "    wide_columns_dict[col.key] = col\n",
    "\n",
    "for col in deep_columns:\n",
    "    is_embedding_column = ('key' not in dir(col))\n",
    "    key = col.categorical_column.key if is_embedding_column else col.key\n",
    "\n",
    "    if key not in features:\n",
    "        features[key] = tf.keras.Input(shape=(1,), \n",
    "                                       batch_size=None, \n",
    "                                       name=key, \n",
    "                                       dtype=tf.float32 if col.key in NUMERIC_COLUMNS else tf.int32,\n",
    "                                       sparse=False)\n",
    "    deep_columns_dict[key] = col\n",
    "\n",
    "for key in wide_columns_dict:\n",
    "    if key in EMBEDDING_TABLE_SHAPES: \n",
    "        wide_weighted_outputs.append(tf.keras.layers.Flatten()(tf.keras.layers.Embedding(\n",
    "            EMBEDDING_TABLE_SHAPES[key][0], 1, input_length=1)(features[key])))\n",
    "    else:\n",
    "        numeric_dense_inputs.append(features[key])\n",
    "\n",
    "categorical_output_contrib = tf.keras.layers.add(wide_weighted_outputs,\n",
    "                                                 name='categorical_output')\n",
    "numeric_dense_tensor = tf.keras.layers.concatenate(\n",
    "    numeric_dense_inputs, name='numeric_dense')\n",
    "deep_columns = list(deep_columns_dict.values())\n",
    "# print(deep_columns)\n",
    "dnn = layers.DenseFeatures(deep_columns, name='deep_embedded')(features)\n",
    "for unit_size in deep_hidden_units:\n",
    "    dnn = tf.keras.layers.Dense(units=unit_size,activation='relu')(dnn)\n",
    "    dnn = tf.keras.layers.Dropout(rate=deep_dropout)(dnn)\n",
    "    dnn = tf.keras.layers.BatchNormalization(momentum=.999)(dnn)\n",
    "dnn = tf.keras.layers.Dense(units=1)(dnn)\n",
    "dnn_model = tf.keras.Model(inputs=features,\n",
    "                           outputs=dnn)\n",
    "linear_output = categorical_output_contrib + tf.keras.layers.Dense(1)(numeric_dense_tensor)\n",
    "\n",
    "linear_model = tf.keras.Model(inputs=features,\n",
    "                              outputs=linear_output)\n",
    "\n",
    "print(\"\")\n",
    "\n",
    "print(\"ddn_model\", dnn_model.inputs)\n",
    "print(\"\")\n",
    "\n",
    "print(\"linear_model\", linear_model.inputs)\n",
    "\n",
    "\n",
    "wide_and_deep_model = tf.keras.experimental.WideDeepModel(\n",
    "    linear_model, dnn_model, activation='sigmoid')\n",
    "\n",
    "print(wide_and_deep_model.inputs)"
   ]
  },
  {
   "cell_type": "code",
   "execution_count": 14,
   "metadata": {},
   "outputs": [
    {
     "name": "stdout",
     "output_type": "stream",
     "text": [
      "YES\n"
     ]
    }
   ],
   "source": [
    "if dnn_model.inputs == linear_model.inputs:\n",
    "    print(\"YES\")"
   ]
  },
  {
   "cell_type": "markdown",
   "metadata": {
    "tags": []
   },
   "source": [
    "We define the datasets that will be used to ingest data into our model. In this case, the NVTabular dataloaders take a set of parquet files generated by NVTabular as input, and are capable of accelerated throughput. The [KerasSequenceLoader](https://github.com/NVIDIA/NVTabular/blob/9aa70caa1dfb5d2fd694cad535def1e470d37b29/nvtabular/loader/tensorflow.py#L89) manages shuffling by loading in chunks of data from different parts of the full dataset, concatenating them and then shuffling, then iterating through this super-chunk sequentially in batches. The number of \"parts\" of the dataset that get sample, or \"partitions\", is controlled by the <i>parts_per_chunk</i> parameter, while the size of each one of these parts is controlled by the <i>buffer_size</i> parameter, which refers to a fraction of available GPU memory. Using more chunks leads to better randomness, especially at the epoch level where physically disparate samples can be brought into the same batch, but can impact throughput if you use too many.\n",
    "\n",
    "The validation process gets slightly complicated by the fact that <i>model.fit</i> doesn't accept Keras Sequence objects as validation data. To support this, we also define a [KerasSequenceValidater](https://github.com/NVIDIA/NVTabular/blob/9aa70caa1dfb5d2fd694cad535def1e470d37b29/nvtabular/loader/tensorflow.py#L351), a lightweight Keras callback to handle validation."
   ]
  },
  {
   "cell_type": "markdown",
   "metadata": {},
   "source": [
    "Now that our data is preprocessed and saved out, we can leverage datasets to read through the preprocessed parquet files in an online fashion to train neural networks."
   ]
  },
  {
   "cell_type": "code",
   "execution_count": 15,
   "metadata": {},
   "outputs": [],
   "source": [
    "TRAIN_PATHS = sorted(glob.glob(os.path.join(OUTPUT_BUCKET_FOLDER, 'train/*.parquet')))\n",
    "VALID_PATHS = sorted(glob.glob(os.path.join(OUTPUT_BUCKET_FOLDER, 'valid/*.parquet')))"
   ]
  },
  {
   "cell_type": "code",
   "execution_count": 16,
   "metadata": {},
   "outputs": [
    {
     "data": {
      "text/plain": [
       "['/outbrain/train/0.2395564495f240e6916f5e26a29bf5a5.parquet',\n",
       " '/outbrain/train/1.d53961c3a717471c866e89e7f5e6ca6f.parquet',\n",
       " '/outbrain/train/2.4a5082aae476495b965605536131c305.parquet',\n",
       " '/outbrain/train/3.0f56976fd72a473fa6673c58d4f5feec.parquet',\n",
       " '/outbrain/train/4.da55d8047663415d974ce7f545182a76.parquet']"
      ]
     },
     "execution_count": 16,
     "metadata": {},
     "output_type": "execute_result"
    }
   ],
   "source": [
    "TRAIN_PATHS"
   ]
  },
  {
   "cell_type": "code",
   "execution_count": 17,
   "metadata": {},
   "outputs": [],
   "source": [
    "train_dataset_tf = KerasSequenceLoader(\n",
    "    TRAIN_PATHS, # you could also use a glob pattern\n",
    "    batch_size=65536,\n",
    "    label_names=['clicked'],\n",
    "    cat_names=CATEGORICAL_COLUMNS,\n",
    "    cont_names=NUMERIC_COLUMNS,\n",
    "    engine='parquet',\n",
    "    shuffle=True,\n",
    "    buffer_size=0.06, # how many batches to load at once\n",
    "    parts_per_chunk=1\n",
    ")\n",
    "\n",
    "# valid_dataset_tf = KerasSequenceLoader(\n",
    "#     VALID_PATHS, # you could also use a glob pattern\n",
    "#     batch_size=65536,\n",
    "#     label_names=['clicked'],\n",
    "#     cat_names=CATEGORICAL_COLUMNS,\n",
    "#     cont_names=NUMERIC_COLUMNS,\n",
    "#     engine='parquet',\n",
    "#     shuffle=False,\n",
    "#     buffer_size=0.06,\n",
    "#     parts_per_chunk=1\n",
    "# )\n",
    "# validation_callback = KerasSequenceValidater(valid_dataset_tf)"
   ]
  },
  {
   "cell_type": "markdown",
   "metadata": {},
   "source": [
    "The wide portion of the model is optimized using the <i>Follow The Regularized Leader (FTRL)</i> algorithm, while the deep portion of the model is optimized using <i>Adam</i> optimizer."
   ]
  },
  {
   "cell_type": "code",
   "execution_count": 18,
   "metadata": {},
   "outputs": [],
   "source": [
    "wide_optimizer = tf.keras.optimizers.Ftrl(\n",
    "        learning_rate=0.1,\n",
    ")\n",
    "\n",
    "deep_optimizer = tf.keras.optimizers.Adam(\n",
    "        learning_rate=0.2\n",
    ") "
   ]
  },
  {
   "cell_type": "markdown",
   "metadata": {},
   "source": [
    "Finally, we compile our model with our dual optimizers and binary cross-entropy loss, and train our model for 10 epochs."
   ]
  },
  {
   "cell_type": "code",
   "execution_count": 19,
   "metadata": {},
   "outputs": [
    {
     "name": "stdout",
     "output_type": "stream",
     "text": [
      "912/912 [==============================] - 89s 92ms/step - loss: 0.6979 - binary_accuracy: 0.7916 - auc: 0.6673\n"
     ]
    }
   ],
   "source": [
    "wide_and_deep_model.compile(\n",
    "    optimizer=[wide_optimizer, deep_optimizer],\n",
    "    loss='binary_crossentropy',\n",
    "    metrics=[tf.keras.metrics.BinaryAccuracy(), tf.keras.metrics.AUC()],\n",
    "    experimental_run_tf_function=False\n",
    ")\n",
    "history = wide_and_deep_model.fit(train_dataset_tf, epochs=1)"
   ]
  },
  {
   "cell_type": "code",
   "execution_count": 20,
   "metadata": {},
   "outputs": [
    {
     "name": "stdout",
     "output_type": "stream",
     "text": [
      "INFO:tensorflow:Assets written to: /outbrain/tf_models/outbrain_tf/1/model.savedmodel/assets\n"
     ]
    }
   ],
   "source": [
    "# This looks like working, but then creates issues afterwards.\n",
    "wide_and_deep_model.save('/outbrain/tf_models/outbrain_tf/1/model.savedmodel', include_optimizer=False)"
   ]
  },
  {
   "cell_type": "code",
   "execution_count": 21,
   "metadata": {},
   "outputs": [
    {
     "data": {
      "text/plain": [
       "[<KerasTensor: shape=(None, 1) dtype=float32 (created by layer 'dense_3')>]"
      ]
     },
     "execution_count": 21,
     "metadata": {},
     "output_type": "execute_result"
    }
   ],
   "source": [
    "dnn_model.outputs"
   ]
  },
  {
   "cell_type": "code",
   "execution_count": 94,
   "metadata": {},
   "outputs": [],
   "source": [
    "import nvtabular\n",
    "import tensorflow\n",
    "\n",
    "workflow = nvtabular.Workflow.load(\"/outbrain/tf_models/outbrain_nvt/1/workflow/\")"
   ]
  },
  {
   "cell_type": "code",
   "execution_count": 95,
   "metadata": {},
   "outputs": [
    {
     "name": "stdout",
     "output_type": "stream",
     "text": [
      "yes\n",
      "yes\n",
      "yes\n",
      "yes\n",
      "yes\n",
      "yes\n",
      "yes\n",
      "yes\n",
      "yes\n",
      "yes\n",
      "yes\n",
      "yes\n",
      "yes\n"
     ]
    }
   ],
   "source": [
    "for i in range(len(workflow.output_dtypes)):\n",
    "    if list(workflow.output_dtypes.values())[i] == \"float64\":\n",
    "        workflow.output_dtypes[list(workflow.output_dtypes.keys())[i]] = \"float32\"\n",
    "    if list(workflow.output_dtypes.values())[i] == \"int64\":\n",
    "        workflow.output_dtypes[list(workflow.output_dtypes.keys())[i]] = \"int32\" "
   ]
  },
  {
   "cell_type": "code",
   "execution_count": 96,
   "metadata": {},
   "outputs": [
    {
     "data": {
      "text/plain": [
       "{'publish_time_since_published': dtype('float32'),\n",
       " 'publish_time_promo_since_published': dtype('float32'),\n",
       " 'geo_location': 'int32',\n",
       " 'geo_location_country': 'int32',\n",
       " 'geo_location_state': 'int32',\n",
       " 'ad_id': 'int32',\n",
       " 'document_id': 'int32',\n",
       " 'platform': 'int32',\n",
       " 'document_id_promo': 'int32',\n",
       " 'campaign_id': 'int32',\n",
       " 'advertiser_id': 'int32',\n",
       " 'source_id': 'int32',\n",
       " 'publisher_id': 'int32',\n",
       " 'source_id_promo': 'int32',\n",
       " 'publisher_id_promo': 'int32',\n",
       " 'TE_ad_id_clicked': 'float32',\n",
       " 'TE_document_id_clicked': 'float32',\n",
       " 'TE_platform_clicked': 'float32',\n",
       " 'TE_document_id_promo_clicked': 'float32',\n",
       " 'TE_campaign_id_clicked': 'float32',\n",
       " 'TE_advertiser_id_clicked': 'float32',\n",
       " 'TE_source_id_clicked': 'float32',\n",
       " 'TE_publisher_id_clicked': 'float32',\n",
       " 'TE_source_id_promo_clicked': 'float32',\n",
       " 'TE_publisher_id_promo_clicked': 'float32',\n",
       " 'clicked': 'int32',\n",
       " 'document_id_document_id_promo_sim_categories': 'float32',\n",
       " 'document_id_document_id_promo_sim_topics': 'float32',\n",
       " 'document_id_document_id_promo_sim_entities': 'float32'}"
      ]
     },
     "execution_count": 96,
     "metadata": {},
     "output_type": "execute_result"
    }
   ],
   "source": [
    "workflow.output_dtypes"
   ]
  },
  {
   "cell_type": "code",
   "execution_count": 97,
   "metadata": {},
   "outputs": [
    {
     "name": "stdout",
     "output_type": "stream",
     "text": [
      "WARNING:tensorflow:No training configuration found in save file, so the model was *not* compiled. Compile it manually.\n"
     ]
    }
   ],
   "source": [
    "model = tf.keras.models.load_model(\"/outbrain/tf_models/outbrain_tf/1/model.savedmodel\")\n",
    "model.inputs = dnn_model.inputs\n",
    "model.outputs = dnn_model.outputs"
   ]
  },
  {
   "cell_type": "code",
   "execution_count": 34,
   "metadata": {},
   "outputs": [
    {
     "data": {
      "text/plain": [
       "[<KerasTensor: shape=(None, 1) dtype=float32 (created by layer 'TE_ad_id_clicked')>,\n",
       " <KerasTensor: shape=(None, 1) dtype=float32 (created by layer 'TE_advertiser_id_clicked')>,\n",
       " <KerasTensor: shape=(None, 1) dtype=float32 (created by layer 'TE_campaign_id_clicked')>,\n",
       " <KerasTensor: shape=(None, 1) dtype=float32 (created by layer 'TE_document_id_promo_clicked')>,\n",
       " <KerasTensor: shape=(None, 1) dtype=float32 (created by layer 'TE_publisher_id_clicked')>,\n",
       " <KerasTensor: shape=(None, 1) dtype=float32 (created by layer 'TE_source_id_clicked')>,\n",
       " <KerasTensor: shape=(None, 1) dtype=int32 (created by layer 'ad_id')>,\n",
       " <KerasTensor: shape=(None, 1) dtype=int32 (created by layer 'advertiser_id')>,\n",
       " <KerasTensor: shape=(None, 1) dtype=int32 (created by layer 'campaign_id')>,\n",
       " <KerasTensor: shape=(None, 1) dtype=int32 (created by layer 'document_id')>,\n",
       " <KerasTensor: shape=(None, 1) dtype=float32 (created by layer 'document_id_document_id_promo_sim_categories')>,\n",
       " <KerasTensor: shape=(None, 1) dtype=float32 (created by layer 'document_id_document_id_promo_sim_entities')>,\n",
       " <KerasTensor: shape=(None, 1) dtype=float32 (created by layer 'document_id_document_id_promo_sim_topics')>,\n",
       " <KerasTensor: shape=(None, 1) dtype=int32 (created by layer 'document_id_promo')>,\n",
       " <KerasTensor: shape=(None, 1) dtype=int32 (created by layer 'geo_location')>,\n",
       " <KerasTensor: shape=(None, 1) dtype=int32 (created by layer 'geo_location_country')>,\n",
       " <KerasTensor: shape=(None, 1) dtype=int32 (created by layer 'geo_location_state')>,\n",
       " <KerasTensor: shape=(None, 1) dtype=int32 (created by layer 'platform')>,\n",
       " <KerasTensor: shape=(None, 1) dtype=float32 (created by layer 'publish_time_promo_since_published')>,\n",
       " <KerasTensor: shape=(None, 1) dtype=float32 (created by layer 'publish_time_since_published')>,\n",
       " <KerasTensor: shape=(None, 1) dtype=int32 (created by layer 'publisher_id')>,\n",
       " <KerasTensor: shape=(None, 1) dtype=int32 (created by layer 'publisher_id_promo')>,\n",
       " <KerasTensor: shape=(None, 1) dtype=int32 (created by layer 'source_id')>,\n",
       " <KerasTensor: shape=(None, 1) dtype=int32 (created by layer 'source_id_promo')>]"
      ]
     },
     "execution_count": 34,
     "metadata": {},
     "output_type": "execute_result"
    }
   ],
   "source": [
    "dnn_model.inputs"
   ]
  },
  {
   "cell_type": "code",
   "execution_count": 98,
   "metadata": {},
   "outputs": [
    {
     "name": "stdout",
     "output_type": "stream",
     "text": [
      "INFO:tensorflow:Assets written to: /outbrain/models/outbrain_tf/1/model.savedmodel/assets\n",
      "KerasTensor(type_spec=TensorSpec(shape=(None, 1), dtype=tf.float32, name='TE_ad_id_clicked'), name='TE_ad_id_clicked', description=\"created by layer 'TE_ad_id_clicked'\")\n",
      "KerasTensor(type_spec=TensorSpec(shape=(None, 1), dtype=tf.float32, name='TE_advertiser_id_clicked'), name='TE_advertiser_id_clicked', description=\"created by layer 'TE_advertiser_id_clicked'\")\n",
      "KerasTensor(type_spec=TensorSpec(shape=(None, 1), dtype=tf.float32, name='TE_campaign_id_clicked'), name='TE_campaign_id_clicked', description=\"created by layer 'TE_campaign_id_clicked'\")\n",
      "KerasTensor(type_spec=TensorSpec(shape=(None, 1), dtype=tf.float32, name='TE_document_id_promo_clicked'), name='TE_document_id_promo_clicked', description=\"created by layer 'TE_document_id_promo_clicked'\")\n",
      "KerasTensor(type_spec=TensorSpec(shape=(None, 1), dtype=tf.float32, name='TE_publisher_id_clicked'), name='TE_publisher_id_clicked', description=\"created by layer 'TE_publisher_id_clicked'\")\n",
      "KerasTensor(type_spec=TensorSpec(shape=(None, 1), dtype=tf.float32, name='TE_source_id_clicked'), name='TE_source_id_clicked', description=\"created by layer 'TE_source_id_clicked'\")\n",
      "KerasTensor(type_spec=TensorSpec(shape=(None, 1), dtype=tf.int32, name='ad_id'), name='ad_id', description=\"created by layer 'ad_id'\")\n",
      "KerasTensor(type_spec=TensorSpec(shape=(None, 1), dtype=tf.int32, name='advertiser_id'), name='advertiser_id', description=\"created by layer 'advertiser_id'\")\n",
      "KerasTensor(type_spec=TensorSpec(shape=(None, 1), dtype=tf.int32, name='campaign_id'), name='campaign_id', description=\"created by layer 'campaign_id'\")\n",
      "KerasTensor(type_spec=TensorSpec(shape=(None, 1), dtype=tf.int32, name='document_id'), name='document_id', description=\"created by layer 'document_id'\")\n",
      "KerasTensor(type_spec=TensorSpec(shape=(None, 1), dtype=tf.float32, name='document_id_document_id_promo_sim_categories'), name='document_id_document_id_promo_sim_categories', description=\"created by layer 'document_id_document_id_promo_sim_categories'\")\n",
      "KerasTensor(type_spec=TensorSpec(shape=(None, 1), dtype=tf.float32, name='document_id_document_id_promo_sim_entities'), name='document_id_document_id_promo_sim_entities', description=\"created by layer 'document_id_document_id_promo_sim_entities'\")\n",
      "KerasTensor(type_spec=TensorSpec(shape=(None, 1), dtype=tf.float32, name='document_id_document_id_promo_sim_topics'), name='document_id_document_id_promo_sim_topics', description=\"created by layer 'document_id_document_id_promo_sim_topics'\")\n",
      "KerasTensor(type_spec=TensorSpec(shape=(None, 1), dtype=tf.int32, name='document_id_promo'), name='document_id_promo', description=\"created by layer 'document_id_promo'\")\n",
      "KerasTensor(type_spec=TensorSpec(shape=(None, 1), dtype=tf.int32, name='geo_location'), name='geo_location', description=\"created by layer 'geo_location'\")\n",
      "KerasTensor(type_spec=TensorSpec(shape=(None, 1), dtype=tf.int32, name='geo_location_country'), name='geo_location_country', description=\"created by layer 'geo_location_country'\")\n",
      "KerasTensor(type_spec=TensorSpec(shape=(None, 1), dtype=tf.int32, name='geo_location_state'), name='geo_location_state', description=\"created by layer 'geo_location_state'\")\n",
      "KerasTensor(type_spec=TensorSpec(shape=(None, 1), dtype=tf.int32, name='platform'), name='platform', description=\"created by layer 'platform'\")\n",
      "KerasTensor(type_spec=TensorSpec(shape=(None, 1), dtype=tf.float32, name='publish_time_promo_since_published'), name='publish_time_promo_since_published', description=\"created by layer 'publish_time_promo_since_published'\")\n",
      "KerasTensor(type_spec=TensorSpec(shape=(None, 1), dtype=tf.float32, name='publish_time_since_published'), name='publish_time_since_published', description=\"created by layer 'publish_time_since_published'\")\n",
      "KerasTensor(type_spec=TensorSpec(shape=(None, 1), dtype=tf.int32, name='publisher_id'), name='publisher_id', description=\"created by layer 'publisher_id'\")\n",
      "KerasTensor(type_spec=TensorSpec(shape=(None, 1), dtype=tf.int32, name='publisher_id_promo'), name='publisher_id_promo', description=\"created by layer 'publisher_id_promo'\")\n",
      "KerasTensor(type_spec=TensorSpec(shape=(None, 1), dtype=tf.int32, name='source_id'), name='source_id', description=\"created by layer 'source_id'\")\n",
      "KerasTensor(type_spec=TensorSpec(shape=(None, 1), dtype=tf.int32, name='source_id_promo'), name='source_id_promo', description=\"created by layer 'source_id_promo'\")\n"
     ]
    }
   ],
   "source": [
    "# Creates an ensemble triton server model, where\n",
    "#   model: The tensorflow model that should be served\n",
    "#   workflow: The nvtabular workflow used in preprocessing\n",
    "#   name: The base name of the various triton models\n",
    "\n",
    "from nvtabular.inference.triton import export_tensorflow_ensemble\n",
    "export_tensorflow_ensemble(model, workflow, \"outbrain\", \"/outbrain/models/\", [\"clicked\"])"
   ]
  },
  {
   "cell_type": "code",
   "execution_count": null,
   "metadata": {},
   "outputs": [],
   "source": []
  }
 ],
 "metadata": {
  "kernelspec": {
   "display_name": "Python 3",
   "language": "python",
   "name": "python3"
  },
  "language_info": {
   "codemirror_mode": {
    "name": "ipython",
    "version": 3
   },
   "file_extension": ".py",
   "mimetype": "text/x-python",
   "name": "python",
   "nbconvert_exporter": "python",
   "pygments_lexer": "ipython3",
   "version": "3.8.8"
  }
 },
 "nbformat": 4,
 "nbformat_minor": 4
}
